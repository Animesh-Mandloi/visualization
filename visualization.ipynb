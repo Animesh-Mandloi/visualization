{
 "cells": [
  {
   "cell_type": "code",
   "execution_count": null,
   "id": "5969db05-d8f5-4b32-a183-98694a75f9c2",
   "metadata": {},
   "outputs": [],
   "source": [
    "#1. Create a scatter plot using Matplotlib to visualize the relationship between two arrays, x and y for the given\n",
    "import matplotlib.pyplot as plt\n",
    "\n",
    "x = [1, 2, 3, 4, 5, 6, 7, 8, 9, 10]\n",
    "y = [2, 4, 5, 7, 6, 8, 9, 10, 12, 13]\n",
    "\n",
    "plt.figure(figsize=(8, 6))\n",
    "plt.scatter(x, y, color='blue', marker='o')\n",
    "plt.title('Scatter Plot of x vs y')\n",
    "plt.xlabel('x')\n",
    "plt.ylabel('y')\n",
    "plt.grid(True)\n",
    "plt.show()\n"
   ]
  },
  {
   "cell_type": "code",
   "execution_count": null,
   "id": "b7f22a58-0745-4ad1-8bfc-a0a48c7327d2",
   "metadata": {},
   "outputs": [],
   "source": [
    "#2. Generate a line plot to visualize the trend of values for the given data.\n",
    "plt.figure(figsize=(8, 6))\n",
    "plt.plot(x, y, color='green', marker='o', linestyle='-')\n",
    "plt.title('Line Plot of x vs y')\n",
    "plt.xlabel('x')\n",
    "plt.ylabel('y')\n",
    "plt.grid(True)\n",
    "plt.show()\n"
   ]
  },
  {
   "cell_type": "code",
   "execution_count": null,
   "id": "fadb2af9-7f97-4ef5-8a99-e6ab9bcf034f",
   "metadata": {},
   "outputs": [],
   "source": [
    "#3. Display a bar chart to represent the frequency of each item in the given array categories.\n",
    "import numpy as np\n",
    "\n",
    "categories = ['A', 'B', 'C', 'D', 'E']\n",
    "values = [25, 40, 30, 35, 20]\n",
    "\n",
    "plt.figure(figsize=(8, 6))\n",
    "plt.bar(categories, values, color='purple')\n",
    "plt.title('Bar Chart of Categories vs Values')\n",
    "plt.xlabel('Categories')\n",
    "plt.ylabel('Values')\n",
    "plt.grid(axis='y')\n",
    "plt.show()\n"
   ]
  },
  {
   "cell_type": "code",
   "execution_count": null,
   "id": "5384cbfc-c95b-47c6-b5f5-8359cb52248e",
   "metadata": {},
   "outputs": [],
   "source": [
    "#4. Create a histogram to visualize the distribution of values in the array data.\n",
    "# Example data\n",
    "data = np.random.randn(1000)  # Generating random data\n",
    "\n",
    "plt.figure(figsize=(8, 6))\n",
    "plt.hist(data, bins=30, color='orange', edgecolor='black')\n",
    "plt.title('Histogram of Data Distribution')\n",
    "plt.xlabel('Value')\n",
    "plt.ylabel('Frequency')\n",
    "plt.grid(True)\n",
    "plt.show()\n"
   ]
  },
  {
   "cell_type": "code",
   "execution_count": null,
   "id": "10035fd0-e9b0-4e27-8151-9aa107552414",
   "metadata": {},
   "outputs": [],
   "source": [
    "#5. Show a pie chart to represent the percentage distribution of different sections in the array sections.\n",
    "sections = ['Section A', 'Section B', 'Section C', 'Section D']\n",
    "sizes = [25, 30, 15, 30]\n",
    "\n",
    "plt.figure(figsize=(8, 6))\n",
    "plt.pie(sizes, labels=sections, autopct='%1.1f%%', colors=['red', 'blue', 'green', 'orange'])\n",
    "plt.title('Pie Chart of Section Sizes')\n",
    "plt.show()\n"
   ]
  },
  {
   "cell_type": "code",
   "execution_count": null,
   "id": "fef196b9-8f39-47ed-9a88-b85ec0403c16",
   "metadata": {},
   "outputs": [],
   "source": [
    "#1. Create a scatter plot to visualize the relationship between two variables, by generating a synthetic\n",
    "\n",
    "np.random.seed(0)\n",
    "x_synthetic = np.random.rand(50)\n",
    "y_synthetic = 2 * x_synthetic + np.random.randn(50) * 0.2\n",
    "\n",
    "plt.figure(figsize=(8, 6))\n",
    "plt.scatter(x_synthetic, y_synthetic, color='cyan', marker='o')\n",
    "plt.title('Scatter Plot with Synthetic Data')\n",
    "plt.xlabel('x')\n",
    "plt.ylabel('y')\n",
    "plt.grid(True)\n",
    "plt.show()\n"
   ]
  },
  {
   "cell_type": "code",
   "execution_count": null,
   "id": "9b8fc7d5-5d27-4daf-86c9-bb216e53d4a1",
   "metadata": {},
   "outputs": [],
   "source": [
    "#2. Generate a dataset of random numbers. Visualize the distribution of a numerical variable.\n",
    "random_data = np.random.randn(1000)\n",
    "\n",
    "plt.figure(figsize=(8, 6))\n",
    "plt.hist(random_data, bins=30, color='teal', edgecolor='black')\n",
    "plt.title('Histogram of Random Data Distribution')\n",
    "plt.xlabel('Value')\n",
    "plt.ylabel('Frequency')\n",
    "plt.grid(True)\n",
    "plt.show()\n"
   ]
  },
  {
   "cell_type": "code",
   "execution_count": null,
   "id": "5f530c80-c072-4ef1-a2b1-5e2a0ea1a022",
   "metadata": {},
   "outputs": [],
   "source": [
    "\"\"\"3. Create a dataset representing categories and their corresponding values. Compare different categories\n",
    "based on numerical values\"\"\"\n",
    "categories = ['A', 'B', 'C', 'D', 'E']\n",
    "values = [25, 40, 30, 35, 20]\n",
    "\n",
    "plt.figure(figsize=(8, 6))\n",
    "plt.bar(categories, values, color='blue')\n",
    "plt.title('Bar Chart of Category Values')\n",
    "plt.xlabel('Categories')\n",
    "plt.ylabel('Values')\n",
    "plt.grid(axis='y')\n",
    "plt.show()\n"
   ]
  },
  {
   "cell_type": "code",
   "execution_count": null,
   "id": "4768eed3-1310-420b-8813-8322e6b22e13",
   "metadata": {},
   "outputs": [],
   "source": [
    "\"\"\"4. Generate a dataset with categories and numerical values. Visualize the distribution of a numerical\n",
    "variable across different categories.\"\"\"\n",
    "import pandas as pd\n",
    "\n",
    "# Sample data\n",
    "data = {\n",
    "    'Category': ['A', 'B', 'C', 'D', 'E'],\n",
    "    'Value': [25, 40, 30, 35, 20]\n",
    "}\n",
    "df = pd.DataFrame(data)\n",
    "\n",
    "plt.figure(figsize=(8, 6))\n",
    "plt.bar(df['Category'], df['Value'], color='magenta')\n",
    "plt.title('Bar Chart of Values by Category')\n",
    "plt.xlabel('Category')\n",
    "plt.ylabel('Value')\n",
    "plt.grid(axis='y')\n",
    "plt.show()\n"
   ]
  },
  {
   "cell_type": "code",
   "execution_count": null,
   "id": "592781bd-0099-4743-8b33-a5b4da755d9a",
   "metadata": {},
   "outputs": [],
   "source": [
    "\"\"\"5. Generate a synthetic dataset with correlated features. Visualize the correlation matrix of a dataset using a\n",
    "heatmap.\n",
    "\n",
    "x = [1, 2, 3, 4, 5, 6, 7, 8, 9, 10] ",
    "\n",
    "y = [2, 4, 5, 7, 6, 8, 9, 10, 12, 13]\"\"\"\n",
    "import seaborn as sns\n",
    "\n",
    "# Generating synthetic dataset\n",
    "np.random.seed(0)\n",
    "data = np.random.rand(100, 3)\n",
    "data[:, 1] = data[:, 0] * 0.5 + np.random.randn(100) * 0.1\n",
    "data[:, 2] = data[:, 0] * 0.3 + np.random.randn(100) * 0.1\n",
    "\n",
    "df_corr = pd.DataFrame(data, columns=['Feature 1', 'Feature 2', 'Feature 3'])\n",
    "corr_matrix = df_corr.corr()\n",
    "\n",
    "plt.figure(figsize=(8, 6))\n",
    "sns.heatmap(corr_matrix, annot=True, cmap='coolwarm', vmin=-1, vmax=1)\n",
    "plt.title('Correlation Matrix Heatmap')\n",
    "plt.show()\n"
   ]
  },
  {
   "cell_type": "code",
   "execution_count": null,
   "id": "fdf5e3ba-8c33-43df-b2c1-2b09403807fd",
   "metadata": {},
   "outputs": [],
   "source": []
  },
  {
   "cell_type": "code",
   "execution_count": null,
   "id": "e8f24c75-287d-45d7-8a37-0f325b167edd",
   "metadata": {},
   "outputs": [],
   "source": []
  },
  {
   "cell_type": "code",
   "execution_count": null,
   "id": "107a88eb-3496-47f9-900d-716df862c3a1",
   "metadata": {},
   "outputs": [],
   "source": []
  },
  {
   "cell_type": "code",
   "execution_count": null,
   "id": "59f1b1b6-12c9-4a07-8195-499c43ce3ab1",
   "metadata": {},
   "outputs": [],
   "source": []
  },
  {
   "cell_type": "code",
   "execution_count": null,
   "id": "9308cc73-bd6b-4f0a-b683-f028ac378db0",
   "metadata": {},
   "outputs": [],
   "source": []
  },
  {
   "cell_type": "code",
   "execution_count": null,
   "id": "cc96fe16-a9f1-4ed0-8649-3e43d80f26ba",
   "metadata": {},
   "outputs": [],
   "source": []
  },
  {
   "cell_type": "code",
   "execution_count": null,
   "id": "2511b07e-7813-4d77-b915-013bc2da90e9",
   "metadata": {},
   "outputs": [],
   "source": []
  },
  {
   "cell_type": "code",
   "execution_count": null,
   "id": "e66ff397-94ba-47af-b127-3a3dbb4bc326",
   "metadata": {},
   "outputs": [],
   "source": []
  },
  {
   "cell_type": "code",
   "execution_count": null,
   "id": "a72dc79d-79cb-4280-9399-532abe51ac9a",
   "metadata": {},
   "outputs": [],
   "source": []
  },
  {
   "cell_type": "code",
   "execution_count": null,
   "id": "aeac5811-ef90-41ce-8665-aba77f59378e",
   "metadata": {},
   "outputs": [],
   "source": []
  },
  {
   "cell_type": "code",
   "execution_count": null,
   "id": "3b82e0b5-b6f0-40c9-b35f-c095cf9417b5",
   "metadata": {},
   "outputs": [],
   "source": []
  },
  {
   "cell_type": "code",
   "execution_count": null,
   "id": "e40d197c-9a72-4adc-8743-b39fc2689c4c",
   "metadata": {},
   "outputs": [],
   "source": []
  },
  {
   "cell_type": "code",
   "execution_count": null,
   "id": "1d82d49f-3b6f-4401-9677-feb73d27130a",
   "metadata": {},
   "outputs": [],
   "source": []
  }
 ],
 "metadata": {
  "kernelspec": {
   "display_name": "Python 3 (ipykernel)",
   "language": "python",
   "name": "python3"
  },
  "language_info": {
   "codemirror_mode": {
    "name": "ipython",
    "version": 3
   },
   "file_extension": ".py",
   "mimetype": "text/x-python",
   "name": "python",
   "nbconvert_exporter": "python",
   "pygments_lexer": "ipython3",
   "version": "3.12.2"
  }
 },
 "nbformat": 4,
 "nbformat_minor": 5
}
